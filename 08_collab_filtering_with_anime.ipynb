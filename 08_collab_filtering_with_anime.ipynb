{
  "cells": [
    {
      "cell_type": "markdown",
      "metadata": {
        "id": "3VArM7DyR_Fx"
      },
      "source": [
        "# Building a collaborative filtering system with anime\n",
        "The ur-example for collaborative filtering is the MovieLens Database, but let's be honest: movie suggestions are nice, but I don't like watching similar movies. For me, media needs to be acclaimed but not to pop, and have a certain degree of cult following. Thus, I'm going to build here a collaborative filtering data set with anime the website My Anime List. I found a [dataset](https://www.kaggle.com/datasets/marlesson/myanimelist-dataset-animes-profiles-reviews) on Kaggle with reviews. I downloaded the files and then uploaded them into my personal Google Drive."
      ]
    },
    {
      "cell_type": "code",
      "execution_count": null,
      "metadata": {
        "id": "fRuRSrQJSDSg"
      },
      "outputs": [],
      "source": [
        "from fastai.tabular.all import *\n",
        "from fastai.collab import *\n",
        "import pandas as pd"
      ]
    },
    {
      "cell_type": "code",
      "source": [
        "path = Path('/content/drive/MyDrive/Machine Learning/anime')"
      ],
      "metadata": {
        "id": "I_cnXyusIsIf"
      },
      "execution_count": null,
      "outputs": []
    },
    {
      "cell_type": "code",
      "execution_count": null,
      "metadata": {
        "id": "WXRY0Oc6WXJi"
      },
      "outputs": [],
      "source": [
        "Path.BASE_PATH = path"
      ]
    },
    {
      "cell_type": "code",
      "execution_count": null,
      "metadata": {
        "colab": {
          "base_uri": "https://localhost:8080/"
        },
        "id": "N49Tnjm6WaA3",
        "outputId": "1ab0a5d5-ddcd-4609-f6af-09a18cfb29ea"
      },
      "outputs": [
        {
          "output_type": "execute_result",
          "data": {
            "text/plain": [
              "(#3) [Path('animes.csv'),Path('profiles.csv'),Path('reviews.csv')]"
            ]
          },
          "metadata": {},
          "execution_count": 13
        }
      ],
      "source": [
        "path.ls()"
      ]
    },
    {
      "cell_type": "code",
      "source": [
        "from google.colab import drive\n",
        "drive.mount('/content/drive')"
      ],
      "metadata": {
        "colab": {
          "base_uri": "https://localhost:8080/"
        },
        "id": "tb-eVztJNIm_",
        "outputId": "d40f9bff-acdd-4200-c943-11c06603a563"
      },
      "execution_count": null,
      "outputs": [
        {
          "output_type": "stream",
          "name": "stdout",
          "text": [
            "Drive already mounted at /content/drive; to attempt to forcibly remount, call drive.mount(\"/content/drive\", force_remount=True).\n"
          ]
        }
      ]
    },
    {
      "cell_type": "markdown",
      "metadata": {
        "id": "TCxVdIzqYJia"
      },
      "source": [
        "Goal: Determine the latent factors based on the ratings from reviews.csv and create an application which when given a particular show's name, return the relevant thing"
      ]
    },
    {
      "cell_type": "markdown",
      "source": [
        "# Reading in data from the csv file\n",
        "Examining the file structure, there are two relevant files. reviews.csv contains the reviews, while animes.csv contains the id of each anime and the title. For easy data processing, I want to merge these to files into one dataframe."
      ],
      "metadata": {
        "id": "vBMS7NozcMMi"
      }
    },
    {
      "cell_type": "code",
      "execution_count": null,
      "metadata": {
        "id": "nOP2t4lwWb2Y"
      },
      "outputs": [],
      "source": [
        "raw_df = pd.read_csv(path/'reviews.csv',usecols=['profile','anime_uid','score'])"
      ]
    },
    {
      "cell_type": "code",
      "execution_count": null,
      "metadata": {
        "id": "7YYkKSVwY-2R",
        "colab": {
          "base_uri": "https://localhost:8080/",
          "height": 206
        },
        "outputId": "ffa25324-ca47-4510-fcda-6399be0d8550"
      },
      "outputs": [
        {
          "output_type": "execute_result",
          "data": {
            "text/plain": [
              "           profile  anime_uid  score\n",
              "0   DesolatePsyche      34096      8\n",
              "1        baekbeans      34599     10\n",
              "2             skrn      28891      7\n",
              "3     edgewalker00       2904      9\n",
              "4  aManOfCulture99       4181     10"
            ],
            "text/html": [
              "\n",
              "  <div id=\"df-1845ee2f-4aeb-44e8-b7f1-132e9038ca9b\">\n",
              "    <div class=\"colab-df-container\">\n",
              "      <div>\n",
              "<style scoped>\n",
              "    .dataframe tbody tr th:only-of-type {\n",
              "        vertical-align: middle;\n",
              "    }\n",
              "\n",
              "    .dataframe tbody tr th {\n",
              "        vertical-align: top;\n",
              "    }\n",
              "\n",
              "    .dataframe thead th {\n",
              "        text-align: right;\n",
              "    }\n",
              "</style>\n",
              "<table border=\"1\" class=\"dataframe\">\n",
              "  <thead>\n",
              "    <tr style=\"text-align: right;\">\n",
              "      <th></th>\n",
              "      <th>profile</th>\n",
              "      <th>anime_uid</th>\n",
              "      <th>score</th>\n",
              "    </tr>\n",
              "  </thead>\n",
              "  <tbody>\n",
              "    <tr>\n",
              "      <th>0</th>\n",
              "      <td>DesolatePsyche</td>\n",
              "      <td>34096</td>\n",
              "      <td>8</td>\n",
              "    </tr>\n",
              "    <tr>\n",
              "      <th>1</th>\n",
              "      <td>baekbeans</td>\n",
              "      <td>34599</td>\n",
              "      <td>10</td>\n",
              "    </tr>\n",
              "    <tr>\n",
              "      <th>2</th>\n",
              "      <td>skrn</td>\n",
              "      <td>28891</td>\n",
              "      <td>7</td>\n",
              "    </tr>\n",
              "    <tr>\n",
              "      <th>3</th>\n",
              "      <td>edgewalker00</td>\n",
              "      <td>2904</td>\n",
              "      <td>9</td>\n",
              "    </tr>\n",
              "    <tr>\n",
              "      <th>4</th>\n",
              "      <td>aManOfCulture99</td>\n",
              "      <td>4181</td>\n",
              "      <td>10</td>\n",
              "    </tr>\n",
              "  </tbody>\n",
              "</table>\n",
              "</div>\n",
              "      <button class=\"colab-df-convert\" onclick=\"convertToInteractive('df-1845ee2f-4aeb-44e8-b7f1-132e9038ca9b')\"\n",
              "              title=\"Convert this dataframe to an interactive table.\"\n",
              "              style=\"display:none;\">\n",
              "        \n",
              "  <svg xmlns=\"http://www.w3.org/2000/svg\" height=\"24px\"viewBox=\"0 0 24 24\"\n",
              "       width=\"24px\">\n",
              "    <path d=\"M0 0h24v24H0V0z\" fill=\"none\"/>\n",
              "    <path d=\"M18.56 5.44l.94 2.06.94-2.06 2.06-.94-2.06-.94-.94-2.06-.94 2.06-2.06.94zm-11 1L8.5 8.5l.94-2.06 2.06-.94-2.06-.94L8.5 2.5l-.94 2.06-2.06.94zm10 10l.94 2.06.94-2.06 2.06-.94-2.06-.94-.94-2.06-.94 2.06-2.06.94z\"/><path d=\"M17.41 7.96l-1.37-1.37c-.4-.4-.92-.59-1.43-.59-.52 0-1.04.2-1.43.59L10.3 9.45l-7.72 7.72c-.78.78-.78 2.05 0 2.83L4 21.41c.39.39.9.59 1.41.59.51 0 1.02-.2 1.41-.59l7.78-7.78 2.81-2.81c.8-.78.8-2.07 0-2.86zM5.41 20L4 18.59l7.72-7.72 1.47 1.35L5.41 20z\"/>\n",
              "  </svg>\n",
              "      </button>\n",
              "      \n",
              "  <style>\n",
              "    .colab-df-container {\n",
              "      display:flex;\n",
              "      flex-wrap:wrap;\n",
              "      gap: 12px;\n",
              "    }\n",
              "\n",
              "    .colab-df-convert {\n",
              "      background-color: #E8F0FE;\n",
              "      border: none;\n",
              "      border-radius: 50%;\n",
              "      cursor: pointer;\n",
              "      display: none;\n",
              "      fill: #1967D2;\n",
              "      height: 32px;\n",
              "      padding: 0 0 0 0;\n",
              "      width: 32px;\n",
              "    }\n",
              "\n",
              "    .colab-df-convert:hover {\n",
              "      background-color: #E2EBFA;\n",
              "      box-shadow: 0px 1px 2px rgba(60, 64, 67, 0.3), 0px 1px 3px 1px rgba(60, 64, 67, 0.15);\n",
              "      fill: #174EA6;\n",
              "    }\n",
              "\n",
              "    [theme=dark] .colab-df-convert {\n",
              "      background-color: #3B4455;\n",
              "      fill: #D2E3FC;\n",
              "    }\n",
              "\n",
              "    [theme=dark] .colab-df-convert:hover {\n",
              "      background-color: #434B5C;\n",
              "      box-shadow: 0px 1px 3px 1px rgba(0, 0, 0, 0.15);\n",
              "      filter: drop-shadow(0px 1px 2px rgba(0, 0, 0, 0.3));\n",
              "      fill: #FFFFFF;\n",
              "    }\n",
              "  </style>\n",
              "\n",
              "      <script>\n",
              "        const buttonEl =\n",
              "          document.querySelector('#df-1845ee2f-4aeb-44e8-b7f1-132e9038ca9b button.colab-df-convert');\n",
              "        buttonEl.style.display =\n",
              "          google.colab.kernel.accessAllowed ? 'block' : 'none';\n",
              "\n",
              "        async function convertToInteractive(key) {\n",
              "          const element = document.querySelector('#df-1845ee2f-4aeb-44e8-b7f1-132e9038ca9b');\n",
              "          const dataTable =\n",
              "            await google.colab.kernel.invokeFunction('convertToInteractive',\n",
              "                                                     [key], {});\n",
              "          if (!dataTable) return;\n",
              "\n",
              "          const docLinkHtml = 'Like what you see? Visit the ' +\n",
              "            '<a target=\"_blank\" href=https://colab.research.google.com/notebooks/data_table.ipynb>data table notebook</a>'\n",
              "            + ' to learn more about interactive tables.';\n",
              "          element.innerHTML = '';\n",
              "          dataTable['output_type'] = 'display_data';\n",
              "          await google.colab.output.renderOutput(dataTable, element);\n",
              "          const docLink = document.createElement('div');\n",
              "          docLink.innerHTML = docLinkHtml;\n",
              "          element.appendChild(docLink);\n",
              "        }\n",
              "      </script>\n",
              "    </div>\n",
              "  </div>\n",
              "  "
            ]
          },
          "metadata": {},
          "execution_count": 16
        }
      ],
      "source": [
        "raw_df.head()"
      ]
    },
    {
      "cell_type": "code",
      "source": [
        "titles_df = pd.read_csv(path/'animes.csv',usecols=['uid','title','synopsis'])"
      ],
      "metadata": {
        "id": "QhtKr4SOaAgT"
      },
      "execution_count": null,
      "outputs": []
    },
    {
      "cell_type": "code",
      "source": [
        "titles_df.head()"
      ],
      "metadata": {
        "id": "WsY7xa5Fbrzj",
        "colab": {
          "base_uri": "https://localhost:8080/",
          "height": 510
        },
        "outputId": "621aa5ac-0e7d-437d-8603-eb16809e5c63"
      },
      "execution_count": null,
      "outputs": [
        {
          "output_type": "execute_result",
          "data": {
            "text/plain": [
              "     uid                             title  \\\n",
              "0  28891           Haikyuu!! Second Season   \n",
              "1  23273           Shigatsu wa Kimi no Uso   \n",
              "2  34599                     Made in Abyss   \n",
              "3   5114  Fullmetal Alchemist: Brotherhood   \n",
              "4  31758  Kizumonogatari III: Reiketsu-hen   \n",
              "\n",
              "                                                                                                                                                                                                                                                                                                                                                                                                                                                                                                                                                                                                                  synopsis  \n",
              "0  Following their participation at the Inter-High, the Karasuno High School volleyball team attempts to refocus their efforts, aiming to conquer the Spring tournament instead.  \\r\\n \\r\\nWhen they receive an invitation from long-standing rival Nekoma High, Karasuno agrees to take part in a large training camp alongside many notable volleyball teams in Tokyo and even some national level players. By playing with some of the toughest teams in Japan, they hope not only to sharpen their skills, but also come up with new attacks that would strengthen them. Moreover, Hinata and Kageyama attempt to d...  \n",
              "1  Music accompanies the path of the human metronome, the prodigious pianist Kousei Arima. But after the passing of his mother, Saki Arima, Kousei falls into a downward spiral, rendering him unable to hear the sound of his own piano. \\r\\n  \\r\\nTwo years later, Kousei still avoids the piano, leaving behind his admirers and rivals, and lives a colorless life alongside his friends Tsubaki Sawabe and Ryouta Watari. However, everything changes when he meets a beautiful violinist, Kaori Miyazono, who stirs up his world and sets him on a journey to face music again. \\r\\n \\r\\nBased on the manga serie...  \n",
              "2  The Abyss—a gaping chasm stretching down into the depths of the earth, filled with mysterious creatures and relics from a time long past. How did it come to be? What lies at the bottom? Countless brave individuals, known as Divers, have sought to solve these mysteries of the Abyss, fearlessly descending into its darkest realms. The best and bravest of the Divers, the White Whistles, are hailed as legends by those who remain on the surface. \\r\\n \\r\\nRiko, daughter of the missing White Whistle Lyza the Annihilator, aspires to become like her mother and explore the furthest reaches of the Aby...  \n",
              "3  \"In order for something to be obtained, something of equal value must be lost.\" \\r\\n \\r\\nAlchemy is bound by this Law of Equivalent Exchange—something the young brothers Edward and Alphonse Elric only realize after attempting human transmutation: the one forbidden act of alchemy. They pay a terrible price for their transgression—Edward loses his left leg, Alphonse his physical body. It is only by the desperate sacrifice of Edward's right arm that he is able to affix Alphonse's soul to a suit of armor. Devastated and alone, it is the hope that they would both eventually return to their orig...  \n",
              "4  After helping revive the legendary vampire Kiss-shot Acerola-orion Heart-under-blade, Koyomi Araragi has become a vampire himself and her servant. Kiss-shot is certain she can turn him back into a human, but only once regaining her full power.  \\r\\n \\r\\nAraragi has hunted down the three vampire hunters that defeated Kiss-shot and retrieved her limbs to return her to full strength. However, now that Araragi has almost accomplished what he’s been fighting for this whole time, he has to consider if this is what he really wants. Once he revives this powerful immortal vampire, there is no telli...  "
            ],
            "text/html": [
              "\n",
              "  <div id=\"df-42bed835-4739-48d8-b062-b0ff0adc4b03\">\n",
              "    <div class=\"colab-df-container\">\n",
              "      <div>\n",
              "<style scoped>\n",
              "    .dataframe tbody tr th:only-of-type {\n",
              "        vertical-align: middle;\n",
              "    }\n",
              "\n",
              "    .dataframe tbody tr th {\n",
              "        vertical-align: top;\n",
              "    }\n",
              "\n",
              "    .dataframe thead th {\n",
              "        text-align: right;\n",
              "    }\n",
              "</style>\n",
              "<table border=\"1\" class=\"dataframe\">\n",
              "  <thead>\n",
              "    <tr style=\"text-align: right;\">\n",
              "      <th></th>\n",
              "      <th>uid</th>\n",
              "      <th>title</th>\n",
              "      <th>synopsis</th>\n",
              "    </tr>\n",
              "  </thead>\n",
              "  <tbody>\n",
              "    <tr>\n",
              "      <th>0</th>\n",
              "      <td>28891</td>\n",
              "      <td>Haikyuu!! Second Season</td>\n",
              "      <td>Following their participation at the Inter-High, the Karasuno High School volleyball team attempts to refocus their efforts, aiming to conquer the Spring tournament instead.  \\r\\n \\r\\nWhen they receive an invitation from long-standing rival Nekoma High, Karasuno agrees to take part in a large training camp alongside many notable volleyball teams in Tokyo and even some national level players. By playing with some of the toughest teams in Japan, they hope not only to sharpen their skills, but also come up with new attacks that would strengthen them. Moreover, Hinata and Kageyama attempt to d...</td>\n",
              "    </tr>\n",
              "    <tr>\n",
              "      <th>1</th>\n",
              "      <td>23273</td>\n",
              "      <td>Shigatsu wa Kimi no Uso</td>\n",
              "      <td>Music accompanies the path of the human metronome, the prodigious pianist Kousei Arima. But after the passing of his mother, Saki Arima, Kousei falls into a downward spiral, rendering him unable to hear the sound of his own piano. \\r\\n  \\r\\nTwo years later, Kousei still avoids the piano, leaving behind his admirers and rivals, and lives a colorless life alongside his friends Tsubaki Sawabe and Ryouta Watari. However, everything changes when he meets a beautiful violinist, Kaori Miyazono, who stirs up his world and sets him on a journey to face music again. \\r\\n \\r\\nBased on the manga serie...</td>\n",
              "    </tr>\n",
              "    <tr>\n",
              "      <th>2</th>\n",
              "      <td>34599</td>\n",
              "      <td>Made in Abyss</td>\n",
              "      <td>The Abyss—a gaping chasm stretching down into the depths of the earth, filled with mysterious creatures and relics from a time long past. How did it come to be? What lies at the bottom? Countless brave individuals, known as Divers, have sought to solve these mysteries of the Abyss, fearlessly descending into its darkest realms. The best and bravest of the Divers, the White Whistles, are hailed as legends by those who remain on the surface. \\r\\n \\r\\nRiko, daughter of the missing White Whistle Lyza the Annihilator, aspires to become like her mother and explore the furthest reaches of the Aby...</td>\n",
              "    </tr>\n",
              "    <tr>\n",
              "      <th>3</th>\n",
              "      <td>5114</td>\n",
              "      <td>Fullmetal Alchemist: Brotherhood</td>\n",
              "      <td>\"In order for something to be obtained, something of equal value must be lost.\" \\r\\n \\r\\nAlchemy is bound by this Law of Equivalent Exchange—something the young brothers Edward and Alphonse Elric only realize after attempting human transmutation: the one forbidden act of alchemy. They pay a terrible price for their transgression—Edward loses his left leg, Alphonse his physical body. It is only by the desperate sacrifice of Edward's right arm that he is able to affix Alphonse's soul to a suit of armor. Devastated and alone, it is the hope that they would both eventually return to their orig...</td>\n",
              "    </tr>\n",
              "    <tr>\n",
              "      <th>4</th>\n",
              "      <td>31758</td>\n",
              "      <td>Kizumonogatari III: Reiketsu-hen</td>\n",
              "      <td>After helping revive the legendary vampire Kiss-shot Acerola-orion Heart-under-blade, Koyomi Araragi has become a vampire himself and her servant. Kiss-shot is certain she can turn him back into a human, but only once regaining her full power.  \\r\\n \\r\\nAraragi has hunted down the three vampire hunters that defeated Kiss-shot and retrieved her limbs to return her to full strength. However, now that Araragi has almost accomplished what he’s been fighting for this whole time, he has to consider if this is what he really wants. Once he revives this powerful immortal vampire, there is no telli...</td>\n",
              "    </tr>\n",
              "  </tbody>\n",
              "</table>\n",
              "</div>\n",
              "      <button class=\"colab-df-convert\" onclick=\"convertToInteractive('df-42bed835-4739-48d8-b062-b0ff0adc4b03')\"\n",
              "              title=\"Convert this dataframe to an interactive table.\"\n",
              "              style=\"display:none;\">\n",
              "        \n",
              "  <svg xmlns=\"http://www.w3.org/2000/svg\" height=\"24px\"viewBox=\"0 0 24 24\"\n",
              "       width=\"24px\">\n",
              "    <path d=\"M0 0h24v24H0V0z\" fill=\"none\"/>\n",
              "    <path d=\"M18.56 5.44l.94 2.06.94-2.06 2.06-.94-2.06-.94-.94-2.06-.94 2.06-2.06.94zm-11 1L8.5 8.5l.94-2.06 2.06-.94-2.06-.94L8.5 2.5l-.94 2.06-2.06.94zm10 10l.94 2.06.94-2.06 2.06-.94-2.06-.94-.94-2.06-.94 2.06-2.06.94z\"/><path d=\"M17.41 7.96l-1.37-1.37c-.4-.4-.92-.59-1.43-.59-.52 0-1.04.2-1.43.59L10.3 9.45l-7.72 7.72c-.78.78-.78 2.05 0 2.83L4 21.41c.39.39.9.59 1.41.59.51 0 1.02-.2 1.41-.59l7.78-7.78 2.81-2.81c.8-.78.8-2.07 0-2.86zM5.41 20L4 18.59l7.72-7.72 1.47 1.35L5.41 20z\"/>\n",
              "  </svg>\n",
              "      </button>\n",
              "      \n",
              "  <style>\n",
              "    .colab-df-container {\n",
              "      display:flex;\n",
              "      flex-wrap:wrap;\n",
              "      gap: 12px;\n",
              "    }\n",
              "\n",
              "    .colab-df-convert {\n",
              "      background-color: #E8F0FE;\n",
              "      border: none;\n",
              "      border-radius: 50%;\n",
              "      cursor: pointer;\n",
              "      display: none;\n",
              "      fill: #1967D2;\n",
              "      height: 32px;\n",
              "      padding: 0 0 0 0;\n",
              "      width: 32px;\n",
              "    }\n",
              "\n",
              "    .colab-df-convert:hover {\n",
              "      background-color: #E2EBFA;\n",
              "      box-shadow: 0px 1px 2px rgba(60, 64, 67, 0.3), 0px 1px 3px 1px rgba(60, 64, 67, 0.15);\n",
              "      fill: #174EA6;\n",
              "    }\n",
              "\n",
              "    [theme=dark] .colab-df-convert {\n",
              "      background-color: #3B4455;\n",
              "      fill: #D2E3FC;\n",
              "    }\n",
              "\n",
              "    [theme=dark] .colab-df-convert:hover {\n",
              "      background-color: #434B5C;\n",
              "      box-shadow: 0px 1px 3px 1px rgba(0, 0, 0, 0.15);\n",
              "      filter: drop-shadow(0px 1px 2px rgba(0, 0, 0, 0.3));\n",
              "      fill: #FFFFFF;\n",
              "    }\n",
              "  </style>\n",
              "\n",
              "      <script>\n",
              "        const buttonEl =\n",
              "          document.querySelector('#df-42bed835-4739-48d8-b062-b0ff0adc4b03 button.colab-df-convert');\n",
              "        buttonEl.style.display =\n",
              "          google.colab.kernel.accessAllowed ? 'block' : 'none';\n",
              "\n",
              "        async function convertToInteractive(key) {\n",
              "          const element = document.querySelector('#df-42bed835-4739-48d8-b062-b0ff0adc4b03');\n",
              "          const dataTable =\n",
              "            await google.colab.kernel.invokeFunction('convertToInteractive',\n",
              "                                                     [key], {});\n",
              "          if (!dataTable) return;\n",
              "\n",
              "          const docLinkHtml = 'Like what you see? Visit the ' +\n",
              "            '<a target=\"_blank\" href=https://colab.research.google.com/notebooks/data_table.ipynb>data table notebook</a>'\n",
              "            + ' to learn more about interactive tables.';\n",
              "          element.innerHTML = '';\n",
              "          dataTable['output_type'] = 'display_data';\n",
              "          await google.colab.output.renderOutput(dataTable, element);\n",
              "          const docLink = document.createElement('div');\n",
              "          docLink.innerHTML = docLinkHtml;\n",
              "          element.appendChild(docLink);\n",
              "        }\n",
              "      </script>\n",
              "    </div>\n",
              "  </div>\n",
              "  "
            ]
          },
          "metadata": {},
          "execution_count": 18
        }
      ]
    },
    {
      "cell_type": "code",
      "source": [
        "titles_df = titles_df.rename(columns={\"uid\":\"anime_uid\"})"
      ],
      "metadata": {
        "id": "I8b-xn6nbt6i"
      },
      "execution_count": null,
      "outputs": []
    },
    {
      "cell_type": "code",
      "source": [
        "titles_df.head()"
      ],
      "metadata": {
        "id": "9eE8uuQZcDnM",
        "colab": {
          "base_uri": "https://localhost:8080/",
          "height": 510
        },
        "outputId": "8961434a-7517-4bd2-dd45-425065e606e1"
      },
      "execution_count": null,
      "outputs": [
        {
          "output_type": "execute_result",
          "data": {
            "text/plain": [
              "   anime_uid                             title  \\\n",
              "0      28891           Haikyuu!! Second Season   \n",
              "1      23273           Shigatsu wa Kimi no Uso   \n",
              "2      34599                     Made in Abyss   \n",
              "3       5114  Fullmetal Alchemist: Brotherhood   \n",
              "4      31758  Kizumonogatari III: Reiketsu-hen   \n",
              "\n",
              "                                                                                                                                                                                                                                                                                                                                                                                                                                                                                                                                                                                                                  synopsis  \n",
              "0  Following their participation at the Inter-High, the Karasuno High School volleyball team attempts to refocus their efforts, aiming to conquer the Spring tournament instead.  \\r\\n \\r\\nWhen they receive an invitation from long-standing rival Nekoma High, Karasuno agrees to take part in a large training camp alongside many notable volleyball teams in Tokyo and even some national level players. By playing with some of the toughest teams in Japan, they hope not only to sharpen their skills, but also come up with new attacks that would strengthen them. Moreover, Hinata and Kageyama attempt to d...  \n",
              "1  Music accompanies the path of the human metronome, the prodigious pianist Kousei Arima. But after the passing of his mother, Saki Arima, Kousei falls into a downward spiral, rendering him unable to hear the sound of his own piano. \\r\\n  \\r\\nTwo years later, Kousei still avoids the piano, leaving behind his admirers and rivals, and lives a colorless life alongside his friends Tsubaki Sawabe and Ryouta Watari. However, everything changes when he meets a beautiful violinist, Kaori Miyazono, who stirs up his world and sets him on a journey to face music again. \\r\\n \\r\\nBased on the manga serie...  \n",
              "2  The Abyss—a gaping chasm stretching down into the depths of the earth, filled with mysterious creatures and relics from a time long past. How did it come to be? What lies at the bottom? Countless brave individuals, known as Divers, have sought to solve these mysteries of the Abyss, fearlessly descending into its darkest realms. The best and bravest of the Divers, the White Whistles, are hailed as legends by those who remain on the surface. \\r\\n \\r\\nRiko, daughter of the missing White Whistle Lyza the Annihilator, aspires to become like her mother and explore the furthest reaches of the Aby...  \n",
              "3  \"In order for something to be obtained, something of equal value must be lost.\" \\r\\n \\r\\nAlchemy is bound by this Law of Equivalent Exchange—something the young brothers Edward and Alphonse Elric only realize after attempting human transmutation: the one forbidden act of alchemy. They pay a terrible price for their transgression—Edward loses his left leg, Alphonse his physical body. It is only by the desperate sacrifice of Edward's right arm that he is able to affix Alphonse's soul to a suit of armor. Devastated and alone, it is the hope that they would both eventually return to their orig...  \n",
              "4  After helping revive the legendary vampire Kiss-shot Acerola-orion Heart-under-blade, Koyomi Araragi has become a vampire himself and her servant. Kiss-shot is certain she can turn him back into a human, but only once regaining her full power.  \\r\\n \\r\\nAraragi has hunted down the three vampire hunters that defeated Kiss-shot and retrieved her limbs to return her to full strength. However, now that Araragi has almost accomplished what he’s been fighting for this whole time, he has to consider if this is what he really wants. Once he revives this powerful immortal vampire, there is no telli...  "
            ],
            "text/html": [
              "\n",
              "  <div id=\"df-48a1186c-c399-4c40-b12d-483a2b6005b2\">\n",
              "    <div class=\"colab-df-container\">\n",
              "      <div>\n",
              "<style scoped>\n",
              "    .dataframe tbody tr th:only-of-type {\n",
              "        vertical-align: middle;\n",
              "    }\n",
              "\n",
              "    .dataframe tbody tr th {\n",
              "        vertical-align: top;\n",
              "    }\n",
              "\n",
              "    .dataframe thead th {\n",
              "        text-align: right;\n",
              "    }\n",
              "</style>\n",
              "<table border=\"1\" class=\"dataframe\">\n",
              "  <thead>\n",
              "    <tr style=\"text-align: right;\">\n",
              "      <th></th>\n",
              "      <th>anime_uid</th>\n",
              "      <th>title</th>\n",
              "      <th>synopsis</th>\n",
              "    </tr>\n",
              "  </thead>\n",
              "  <tbody>\n",
              "    <tr>\n",
              "      <th>0</th>\n",
              "      <td>28891</td>\n",
              "      <td>Haikyuu!! Second Season</td>\n",
              "      <td>Following their participation at the Inter-High, the Karasuno High School volleyball team attempts to refocus their efforts, aiming to conquer the Spring tournament instead.  \\r\\n \\r\\nWhen they receive an invitation from long-standing rival Nekoma High, Karasuno agrees to take part in a large training camp alongside many notable volleyball teams in Tokyo and even some national level players. By playing with some of the toughest teams in Japan, they hope not only to sharpen their skills, but also come up with new attacks that would strengthen them. Moreover, Hinata and Kageyama attempt to d...</td>\n",
              "    </tr>\n",
              "    <tr>\n",
              "      <th>1</th>\n",
              "      <td>23273</td>\n",
              "      <td>Shigatsu wa Kimi no Uso</td>\n",
              "      <td>Music accompanies the path of the human metronome, the prodigious pianist Kousei Arima. But after the passing of his mother, Saki Arima, Kousei falls into a downward spiral, rendering him unable to hear the sound of his own piano. \\r\\n  \\r\\nTwo years later, Kousei still avoids the piano, leaving behind his admirers and rivals, and lives a colorless life alongside his friends Tsubaki Sawabe and Ryouta Watari. However, everything changes when he meets a beautiful violinist, Kaori Miyazono, who stirs up his world and sets him on a journey to face music again. \\r\\n \\r\\nBased on the manga serie...</td>\n",
              "    </tr>\n",
              "    <tr>\n",
              "      <th>2</th>\n",
              "      <td>34599</td>\n",
              "      <td>Made in Abyss</td>\n",
              "      <td>The Abyss—a gaping chasm stretching down into the depths of the earth, filled with mysterious creatures and relics from a time long past. How did it come to be? What lies at the bottom? Countless brave individuals, known as Divers, have sought to solve these mysteries of the Abyss, fearlessly descending into its darkest realms. The best and bravest of the Divers, the White Whistles, are hailed as legends by those who remain on the surface. \\r\\n \\r\\nRiko, daughter of the missing White Whistle Lyza the Annihilator, aspires to become like her mother and explore the furthest reaches of the Aby...</td>\n",
              "    </tr>\n",
              "    <tr>\n",
              "      <th>3</th>\n",
              "      <td>5114</td>\n",
              "      <td>Fullmetal Alchemist: Brotherhood</td>\n",
              "      <td>\"In order for something to be obtained, something of equal value must be lost.\" \\r\\n \\r\\nAlchemy is bound by this Law of Equivalent Exchange—something the young brothers Edward and Alphonse Elric only realize after attempting human transmutation: the one forbidden act of alchemy. They pay a terrible price for their transgression—Edward loses his left leg, Alphonse his physical body. It is only by the desperate sacrifice of Edward's right arm that he is able to affix Alphonse's soul to a suit of armor. Devastated and alone, it is the hope that they would both eventually return to their orig...</td>\n",
              "    </tr>\n",
              "    <tr>\n",
              "      <th>4</th>\n",
              "      <td>31758</td>\n",
              "      <td>Kizumonogatari III: Reiketsu-hen</td>\n",
              "      <td>After helping revive the legendary vampire Kiss-shot Acerola-orion Heart-under-blade, Koyomi Araragi has become a vampire himself and her servant. Kiss-shot is certain she can turn him back into a human, but only once regaining her full power.  \\r\\n \\r\\nAraragi has hunted down the three vampire hunters that defeated Kiss-shot and retrieved her limbs to return her to full strength. However, now that Araragi has almost accomplished what he’s been fighting for this whole time, he has to consider if this is what he really wants. Once he revives this powerful immortal vampire, there is no telli...</td>\n",
              "    </tr>\n",
              "  </tbody>\n",
              "</table>\n",
              "</div>\n",
              "      <button class=\"colab-df-convert\" onclick=\"convertToInteractive('df-48a1186c-c399-4c40-b12d-483a2b6005b2')\"\n",
              "              title=\"Convert this dataframe to an interactive table.\"\n",
              "              style=\"display:none;\">\n",
              "        \n",
              "  <svg xmlns=\"http://www.w3.org/2000/svg\" height=\"24px\"viewBox=\"0 0 24 24\"\n",
              "       width=\"24px\">\n",
              "    <path d=\"M0 0h24v24H0V0z\" fill=\"none\"/>\n",
              "    <path d=\"M18.56 5.44l.94 2.06.94-2.06 2.06-.94-2.06-.94-.94-2.06-.94 2.06-2.06.94zm-11 1L8.5 8.5l.94-2.06 2.06-.94-2.06-.94L8.5 2.5l-.94 2.06-2.06.94zm10 10l.94 2.06.94-2.06 2.06-.94-2.06-.94-.94-2.06-.94 2.06-2.06.94z\"/><path d=\"M17.41 7.96l-1.37-1.37c-.4-.4-.92-.59-1.43-.59-.52 0-1.04.2-1.43.59L10.3 9.45l-7.72 7.72c-.78.78-.78 2.05 0 2.83L4 21.41c.39.39.9.59 1.41.59.51 0 1.02-.2 1.41-.59l7.78-7.78 2.81-2.81c.8-.78.8-2.07 0-2.86zM5.41 20L4 18.59l7.72-7.72 1.47 1.35L5.41 20z\"/>\n",
              "  </svg>\n",
              "      </button>\n",
              "      \n",
              "  <style>\n",
              "    .colab-df-container {\n",
              "      display:flex;\n",
              "      flex-wrap:wrap;\n",
              "      gap: 12px;\n",
              "    }\n",
              "\n",
              "    .colab-df-convert {\n",
              "      background-color: #E8F0FE;\n",
              "      border: none;\n",
              "      border-radius: 50%;\n",
              "      cursor: pointer;\n",
              "      display: none;\n",
              "      fill: #1967D2;\n",
              "      height: 32px;\n",
              "      padding: 0 0 0 0;\n",
              "      width: 32px;\n",
              "    }\n",
              "\n",
              "    .colab-df-convert:hover {\n",
              "      background-color: #E2EBFA;\n",
              "      box-shadow: 0px 1px 2px rgba(60, 64, 67, 0.3), 0px 1px 3px 1px rgba(60, 64, 67, 0.15);\n",
              "      fill: #174EA6;\n",
              "    }\n",
              "\n",
              "    [theme=dark] .colab-df-convert {\n",
              "      background-color: #3B4455;\n",
              "      fill: #D2E3FC;\n",
              "    }\n",
              "\n",
              "    [theme=dark] .colab-df-convert:hover {\n",
              "      background-color: #434B5C;\n",
              "      box-shadow: 0px 1px 3px 1px rgba(0, 0, 0, 0.15);\n",
              "      filter: drop-shadow(0px 1px 2px rgba(0, 0, 0, 0.3));\n",
              "      fill: #FFFFFF;\n",
              "    }\n",
              "  </style>\n",
              "\n",
              "      <script>\n",
              "        const buttonEl =\n",
              "          document.querySelector('#df-48a1186c-c399-4c40-b12d-483a2b6005b2 button.colab-df-convert');\n",
              "        buttonEl.style.display =\n",
              "          google.colab.kernel.accessAllowed ? 'block' : 'none';\n",
              "\n",
              "        async function convertToInteractive(key) {\n",
              "          const element = document.querySelector('#df-48a1186c-c399-4c40-b12d-483a2b6005b2');\n",
              "          const dataTable =\n",
              "            await google.colab.kernel.invokeFunction('convertToInteractive',\n",
              "                                                     [key], {});\n",
              "          if (!dataTable) return;\n",
              "\n",
              "          const docLinkHtml = 'Like what you see? Visit the ' +\n",
              "            '<a target=\"_blank\" href=https://colab.research.google.com/notebooks/data_table.ipynb>data table notebook</a>'\n",
              "            + ' to learn more about interactive tables.';\n",
              "          element.innerHTML = '';\n",
              "          dataTable['output_type'] = 'display_data';\n",
              "          await google.colab.output.renderOutput(dataTable, element);\n",
              "          const docLink = document.createElement('div');\n",
              "          docLink.innerHTML = docLinkHtml;\n",
              "          element.appendChild(docLink);\n",
              "        }\n",
              "      </script>\n",
              "    </div>\n",
              "  </div>\n",
              "  "
            ]
          },
          "metadata": {},
          "execution_count": 20
        }
      ]
    },
    {
      "cell_type": "code",
      "source": [
        "ratings = raw_df.merge(titles_df,on='anime_uid')\n",
        "ratings = ratings.astype({'score':'float64'})"
      ],
      "metadata": {
        "id": "lpIaDtJTcFkk"
      },
      "execution_count": null,
      "outputs": []
    },
    {
      "cell_type": "code",
      "source": [
        "ratings"
      ],
      "metadata": {
        "id": "1SlxgoOSdx2j",
        "colab": {
          "base_uri": "https://localhost:8080/",
          "height": 1000
        },
        "outputId": "f34d25bb-9a4b-457c-8f71-2dea3ac2798e"
      },
      "execution_count": null,
      "outputs": [
        {
          "output_type": "execute_result",
          "data": {
            "text/plain": [
              "                profile  anime_uid  score                 title  \\\n",
              "0        DesolatePsyche      34096    8.0              Gintama.   \n",
              "1        DesolatePsyche      34096    8.0              Gintama.   \n",
              "2             claudinou      34096    8.0              Gintama.   \n",
              "3             claudinou      34096    8.0              Gintama.   \n",
              "4       PeterFromRussia      34096    8.0              Gintama.   \n",
              "...                 ...        ...    ...                   ...   \n",
              "317474        Kuromizue       9751    9.0  Strike Witches Movie   \n",
              "317475      ryanxwonbin       9751    8.0  Strike Witches Movie   \n",
              "317476     AobaSuzukaze       9751   10.0  Strike Witches Movie   \n",
              "317477           7jaws7       9751    9.0  Strike Witches Movie   \n",
              "317478          arsonal       9751    8.0  Strike Witches Movie   \n",
              "\n",
              "                                                                                                                                                                                                                                                                                                                                                                                                                                                                                                                                                                                                                       synopsis  \n",
              "0       After joining the resistance against the bakufu, Gintoki and the gang are in hiding, along with Katsura and his Joui rebels. The Yorozuya is soon approached by Nobume Imai and two members of the Kiheitai, who explain that the Harusame pirates have turned against 7th Division Captain Kamui and their former ally Takasugi. The Kiheitai present Gintoki with a job: find Takasugi, who has been missing since his ship was ambushed in a Harusame raid. Nobume also makes a stunning revelation regarding the Tendoushuu, a secret organization pulling the strings of numerous factions, and their leader Ut...  \n",
              "1       After joining the resistance against the bakufu, Gintoki and the gang are in hiding, along with Katsura and his Joui rebels. The Yorozuya is soon approached by Nobume Imai and two members of the Kiheitai, who explain that the Harusame pirates have turned against 7th Division Captain Kamui and their former ally Takasugi. The Kiheitai present Gintoki with a job: find Takasugi, who has been missing since his ship was ambushed in a Harusame raid. Nobume also makes a stunning revelation regarding the Tendoushuu, a secret organization pulling the strings of numerous factions, and their leader Ut...  \n",
              "2       After joining the resistance against the bakufu, Gintoki and the gang are in hiding, along with Katsura and his Joui rebels. The Yorozuya is soon approached by Nobume Imai and two members of the Kiheitai, who explain that the Harusame pirates have turned against 7th Division Captain Kamui and their former ally Takasugi. The Kiheitai present Gintoki with a job: find Takasugi, who has been missing since his ship was ambushed in a Harusame raid. Nobume also makes a stunning revelation regarding the Tendoushuu, a secret organization pulling the strings of numerous factions, and their leader Ut...  \n",
              "3       After joining the resistance against the bakufu, Gintoki and the gang are in hiding, along with Katsura and his Joui rebels. The Yorozuya is soon approached by Nobume Imai and two members of the Kiheitai, who explain that the Harusame pirates have turned against 7th Division Captain Kamui and their former ally Takasugi. The Kiheitai present Gintoki with a job: find Takasugi, who has been missing since his ship was ambushed in a Harusame raid. Nobume also makes a stunning revelation regarding the Tendoushuu, a secret organization pulling the strings of numerous factions, and their leader Ut...  \n",
              "4       After joining the resistance against the bakufu, Gintoki and the gang are in hiding, along with Katsura and his Joui rebels. The Yorozuya is soon approached by Nobume Imai and two members of the Kiheitai, who explain that the Harusame pirates have turned against 7th Division Captain Kamui and their former ally Takasugi. The Kiheitai present Gintoki with a job: find Takasugi, who has been missing since his ship was ambushed in a Harusame raid. Nobume also makes a stunning revelation regarding the Tendoushuu, a secret organization pulling the strings of numerous factions, and their leader Ut...  \n",
              "...                                                                                                                                                                                                                                                                                                                                                                                                                                                                                                                                                                                                                         ...  \n",
              "317474  After fending off the threat of a Neuroi invasion of Romagna and destroying the enemy's nest over Venezia, Yoshika Miyafuji goes back to her home town in the Empire of Fusou. Despite the loss of her magical and healing abilities, the former officer of the 501st Joint Fighter Wing wants to continue studying medicine. This is in order to help those in need, both civilians and those on the front lines alike. She receives an invitation from a prestigious school in Europe and decides to accept the offer, embarking on a journey back to the war-torn continent. \\r\\n \\r\\nHowever, a new danger arise...  \n",
              "317475  After fending off the threat of a Neuroi invasion of Romagna and destroying the enemy's nest over Venezia, Yoshika Miyafuji goes back to her home town in the Empire of Fusou. Despite the loss of her magical and healing abilities, the former officer of the 501st Joint Fighter Wing wants to continue studying medicine. This is in order to help those in need, both civilians and those on the front lines alike. She receives an invitation from a prestigious school in Europe and decides to accept the offer, embarking on a journey back to the war-torn continent. \\r\\n \\r\\nHowever, a new danger arise...  \n",
              "317476  After fending off the threat of a Neuroi invasion of Romagna and destroying the enemy's nest over Venezia, Yoshika Miyafuji goes back to her home town in the Empire of Fusou. Despite the loss of her magical and healing abilities, the former officer of the 501st Joint Fighter Wing wants to continue studying medicine. This is in order to help those in need, both civilians and those on the front lines alike. She receives an invitation from a prestigious school in Europe and decides to accept the offer, embarking on a journey back to the war-torn continent. \\r\\n \\r\\nHowever, a new danger arise...  \n",
              "317477  After fending off the threat of a Neuroi invasion of Romagna and destroying the enemy's nest over Venezia, Yoshika Miyafuji goes back to her home town in the Empire of Fusou. Despite the loss of her magical and healing abilities, the former officer of the 501st Joint Fighter Wing wants to continue studying medicine. This is in order to help those in need, both civilians and those on the front lines alike. She receives an invitation from a prestigious school in Europe and decides to accept the offer, embarking on a journey back to the war-torn continent. \\r\\n \\r\\nHowever, a new danger arise...  \n",
              "317478  After fending off the threat of a Neuroi invasion of Romagna and destroying the enemy's nest over Venezia, Yoshika Miyafuji goes back to her home town in the Empire of Fusou. Despite the loss of her magical and healing abilities, the former officer of the 501st Joint Fighter Wing wants to continue studying medicine. This is in order to help those in need, both civilians and those on the front lines alike. She receives an invitation from a prestigious school in Europe and decides to accept the offer, embarking on a journey back to the war-torn continent. \\r\\n \\r\\nHowever, a new danger arise...  \n",
              "\n",
              "[317479 rows x 5 columns]"
            ],
            "text/html": [
              "\n",
              "  <div id=\"df-e27f7a53-2fc5-46bc-8330-7cabbf87e6ff\">\n",
              "    <div class=\"colab-df-container\">\n",
              "      <div>\n",
              "<style scoped>\n",
              "    .dataframe tbody tr th:only-of-type {\n",
              "        vertical-align: middle;\n",
              "    }\n",
              "\n",
              "    .dataframe tbody tr th {\n",
              "        vertical-align: top;\n",
              "    }\n",
              "\n",
              "    .dataframe thead th {\n",
              "        text-align: right;\n",
              "    }\n",
              "</style>\n",
              "<table border=\"1\" class=\"dataframe\">\n",
              "  <thead>\n",
              "    <tr style=\"text-align: right;\">\n",
              "      <th></th>\n",
              "      <th>profile</th>\n",
              "      <th>anime_uid</th>\n",
              "      <th>score</th>\n",
              "      <th>title</th>\n",
              "      <th>synopsis</th>\n",
              "    </tr>\n",
              "  </thead>\n",
              "  <tbody>\n",
              "    <tr>\n",
              "      <th>0</th>\n",
              "      <td>DesolatePsyche</td>\n",
              "      <td>34096</td>\n",
              "      <td>8.0</td>\n",
              "      <td>Gintama.</td>\n",
              "      <td>After joining the resistance against the bakufu, Gintoki and the gang are in hiding, along with Katsura and his Joui rebels. The Yorozuya is soon approached by Nobume Imai and two members of the Kiheitai, who explain that the Harusame pirates have turned against 7th Division Captain Kamui and their former ally Takasugi. The Kiheitai present Gintoki with a job: find Takasugi, who has been missing since his ship was ambushed in a Harusame raid. Nobume also makes a stunning revelation regarding the Tendoushuu, a secret organization pulling the strings of numerous factions, and their leader Ut...</td>\n",
              "    </tr>\n",
              "    <tr>\n",
              "      <th>1</th>\n",
              "      <td>DesolatePsyche</td>\n",
              "      <td>34096</td>\n",
              "      <td>8.0</td>\n",
              "      <td>Gintama.</td>\n",
              "      <td>After joining the resistance against the bakufu, Gintoki and the gang are in hiding, along with Katsura and his Joui rebels. The Yorozuya is soon approached by Nobume Imai and two members of the Kiheitai, who explain that the Harusame pirates have turned against 7th Division Captain Kamui and their former ally Takasugi. The Kiheitai present Gintoki with a job: find Takasugi, who has been missing since his ship was ambushed in a Harusame raid. Nobume also makes a stunning revelation regarding the Tendoushuu, a secret organization pulling the strings of numerous factions, and their leader Ut...</td>\n",
              "    </tr>\n",
              "    <tr>\n",
              "      <th>2</th>\n",
              "      <td>claudinou</td>\n",
              "      <td>34096</td>\n",
              "      <td>8.0</td>\n",
              "      <td>Gintama.</td>\n",
              "      <td>After joining the resistance against the bakufu, Gintoki and the gang are in hiding, along with Katsura and his Joui rebels. The Yorozuya is soon approached by Nobume Imai and two members of the Kiheitai, who explain that the Harusame pirates have turned against 7th Division Captain Kamui and their former ally Takasugi. The Kiheitai present Gintoki with a job: find Takasugi, who has been missing since his ship was ambushed in a Harusame raid. Nobume also makes a stunning revelation regarding the Tendoushuu, a secret organization pulling the strings of numerous factions, and their leader Ut...</td>\n",
              "    </tr>\n",
              "    <tr>\n",
              "      <th>3</th>\n",
              "      <td>claudinou</td>\n",
              "      <td>34096</td>\n",
              "      <td>8.0</td>\n",
              "      <td>Gintama.</td>\n",
              "      <td>After joining the resistance against the bakufu, Gintoki and the gang are in hiding, along with Katsura and his Joui rebels. The Yorozuya is soon approached by Nobume Imai and two members of the Kiheitai, who explain that the Harusame pirates have turned against 7th Division Captain Kamui and their former ally Takasugi. The Kiheitai present Gintoki with a job: find Takasugi, who has been missing since his ship was ambushed in a Harusame raid. Nobume also makes a stunning revelation regarding the Tendoushuu, a secret organization pulling the strings of numerous factions, and their leader Ut...</td>\n",
              "    </tr>\n",
              "    <tr>\n",
              "      <th>4</th>\n",
              "      <td>PeterFromRussia</td>\n",
              "      <td>34096</td>\n",
              "      <td>8.0</td>\n",
              "      <td>Gintama.</td>\n",
              "      <td>After joining the resistance against the bakufu, Gintoki and the gang are in hiding, along with Katsura and his Joui rebels. The Yorozuya is soon approached by Nobume Imai and two members of the Kiheitai, who explain that the Harusame pirates have turned against 7th Division Captain Kamui and their former ally Takasugi. The Kiheitai present Gintoki with a job: find Takasugi, who has been missing since his ship was ambushed in a Harusame raid. Nobume also makes a stunning revelation regarding the Tendoushuu, a secret organization pulling the strings of numerous factions, and their leader Ut...</td>\n",
              "    </tr>\n",
              "    <tr>\n",
              "      <th>...</th>\n",
              "      <td>...</td>\n",
              "      <td>...</td>\n",
              "      <td>...</td>\n",
              "      <td>...</td>\n",
              "      <td>...</td>\n",
              "    </tr>\n",
              "    <tr>\n",
              "      <th>317474</th>\n",
              "      <td>Kuromizue</td>\n",
              "      <td>9751</td>\n",
              "      <td>9.0</td>\n",
              "      <td>Strike Witches Movie</td>\n",
              "      <td>After fending off the threat of a Neuroi invasion of Romagna and destroying the enemy's nest over Venezia, Yoshika Miyafuji goes back to her home town in the Empire of Fusou. Despite the loss of her magical and healing abilities, the former officer of the 501st Joint Fighter Wing wants to continue studying medicine. This is in order to help those in need, both civilians and those on the front lines alike. She receives an invitation from a prestigious school in Europe and decides to accept the offer, embarking on a journey back to the war-torn continent. \\r\\n \\r\\nHowever, a new danger arise...</td>\n",
              "    </tr>\n",
              "    <tr>\n",
              "      <th>317475</th>\n",
              "      <td>ryanxwonbin</td>\n",
              "      <td>9751</td>\n",
              "      <td>8.0</td>\n",
              "      <td>Strike Witches Movie</td>\n",
              "      <td>After fending off the threat of a Neuroi invasion of Romagna and destroying the enemy's nest over Venezia, Yoshika Miyafuji goes back to her home town in the Empire of Fusou. Despite the loss of her magical and healing abilities, the former officer of the 501st Joint Fighter Wing wants to continue studying medicine. This is in order to help those in need, both civilians and those on the front lines alike. She receives an invitation from a prestigious school in Europe and decides to accept the offer, embarking on a journey back to the war-torn continent. \\r\\n \\r\\nHowever, a new danger arise...</td>\n",
              "    </tr>\n",
              "    <tr>\n",
              "      <th>317476</th>\n",
              "      <td>AobaSuzukaze</td>\n",
              "      <td>9751</td>\n",
              "      <td>10.0</td>\n",
              "      <td>Strike Witches Movie</td>\n",
              "      <td>After fending off the threat of a Neuroi invasion of Romagna and destroying the enemy's nest over Venezia, Yoshika Miyafuji goes back to her home town in the Empire of Fusou. Despite the loss of her magical and healing abilities, the former officer of the 501st Joint Fighter Wing wants to continue studying medicine. This is in order to help those in need, both civilians and those on the front lines alike. She receives an invitation from a prestigious school in Europe and decides to accept the offer, embarking on a journey back to the war-torn continent. \\r\\n \\r\\nHowever, a new danger arise...</td>\n",
              "    </tr>\n",
              "    <tr>\n",
              "      <th>317477</th>\n",
              "      <td>7jaws7</td>\n",
              "      <td>9751</td>\n",
              "      <td>9.0</td>\n",
              "      <td>Strike Witches Movie</td>\n",
              "      <td>After fending off the threat of a Neuroi invasion of Romagna and destroying the enemy's nest over Venezia, Yoshika Miyafuji goes back to her home town in the Empire of Fusou. Despite the loss of her magical and healing abilities, the former officer of the 501st Joint Fighter Wing wants to continue studying medicine. This is in order to help those in need, both civilians and those on the front lines alike. She receives an invitation from a prestigious school in Europe and decides to accept the offer, embarking on a journey back to the war-torn continent. \\r\\n \\r\\nHowever, a new danger arise...</td>\n",
              "    </tr>\n",
              "    <tr>\n",
              "      <th>317478</th>\n",
              "      <td>arsonal</td>\n",
              "      <td>9751</td>\n",
              "      <td>8.0</td>\n",
              "      <td>Strike Witches Movie</td>\n",
              "      <td>After fending off the threat of a Neuroi invasion of Romagna and destroying the enemy's nest over Venezia, Yoshika Miyafuji goes back to her home town in the Empire of Fusou. Despite the loss of her magical and healing abilities, the former officer of the 501st Joint Fighter Wing wants to continue studying medicine. This is in order to help those in need, both civilians and those on the front lines alike. She receives an invitation from a prestigious school in Europe and decides to accept the offer, embarking on a journey back to the war-torn continent. \\r\\n \\r\\nHowever, a new danger arise...</td>\n",
              "    </tr>\n",
              "  </tbody>\n",
              "</table>\n",
              "<p>317479 rows × 5 columns</p>\n",
              "</div>\n",
              "      <button class=\"colab-df-convert\" onclick=\"convertToInteractive('df-e27f7a53-2fc5-46bc-8330-7cabbf87e6ff')\"\n",
              "              title=\"Convert this dataframe to an interactive table.\"\n",
              "              style=\"display:none;\">\n",
              "        \n",
              "  <svg xmlns=\"http://www.w3.org/2000/svg\" height=\"24px\"viewBox=\"0 0 24 24\"\n",
              "       width=\"24px\">\n",
              "    <path d=\"M0 0h24v24H0V0z\" fill=\"none\"/>\n",
              "    <path d=\"M18.56 5.44l.94 2.06.94-2.06 2.06-.94-2.06-.94-.94-2.06-.94 2.06-2.06.94zm-11 1L8.5 8.5l.94-2.06 2.06-.94-2.06-.94L8.5 2.5l-.94 2.06-2.06.94zm10 10l.94 2.06.94-2.06 2.06-.94-2.06-.94-.94-2.06-.94 2.06-2.06.94z\"/><path d=\"M17.41 7.96l-1.37-1.37c-.4-.4-.92-.59-1.43-.59-.52 0-1.04.2-1.43.59L10.3 9.45l-7.72 7.72c-.78.78-.78 2.05 0 2.83L4 21.41c.39.39.9.59 1.41.59.51 0 1.02-.2 1.41-.59l7.78-7.78 2.81-2.81c.8-.78.8-2.07 0-2.86zM5.41 20L4 18.59l7.72-7.72 1.47 1.35L5.41 20z\"/>\n",
              "  </svg>\n",
              "      </button>\n",
              "      \n",
              "  <style>\n",
              "    .colab-df-container {\n",
              "      display:flex;\n",
              "      flex-wrap:wrap;\n",
              "      gap: 12px;\n",
              "    }\n",
              "\n",
              "    .colab-df-convert {\n",
              "      background-color: #E8F0FE;\n",
              "      border: none;\n",
              "      border-radius: 50%;\n",
              "      cursor: pointer;\n",
              "      display: none;\n",
              "      fill: #1967D2;\n",
              "      height: 32px;\n",
              "      padding: 0 0 0 0;\n",
              "      width: 32px;\n",
              "    }\n",
              "\n",
              "    .colab-df-convert:hover {\n",
              "      background-color: #E2EBFA;\n",
              "      box-shadow: 0px 1px 2px rgba(60, 64, 67, 0.3), 0px 1px 3px 1px rgba(60, 64, 67, 0.15);\n",
              "      fill: #174EA6;\n",
              "    }\n",
              "\n",
              "    [theme=dark] .colab-df-convert {\n",
              "      background-color: #3B4455;\n",
              "      fill: #D2E3FC;\n",
              "    }\n",
              "\n",
              "    [theme=dark] .colab-df-convert:hover {\n",
              "      background-color: #434B5C;\n",
              "      box-shadow: 0px 1px 3px 1px rgba(0, 0, 0, 0.15);\n",
              "      filter: drop-shadow(0px 1px 2px rgba(0, 0, 0, 0.3));\n",
              "      fill: #FFFFFF;\n",
              "    }\n",
              "  </style>\n",
              "\n",
              "      <script>\n",
              "        const buttonEl =\n",
              "          document.querySelector('#df-e27f7a53-2fc5-46bc-8330-7cabbf87e6ff button.colab-df-convert');\n",
              "        buttonEl.style.display =\n",
              "          google.colab.kernel.accessAllowed ? 'block' : 'none';\n",
              "\n",
              "        async function convertToInteractive(key) {\n",
              "          const element = document.querySelector('#df-e27f7a53-2fc5-46bc-8330-7cabbf87e6ff');\n",
              "          const dataTable =\n",
              "            await google.colab.kernel.invokeFunction('convertToInteractive',\n",
              "                                                     [key], {});\n",
              "          if (!dataTable) return;\n",
              "\n",
              "          const docLinkHtml = 'Like what you see? Visit the ' +\n",
              "            '<a target=\"_blank\" href=https://colab.research.google.com/notebooks/data_table.ipynb>data table notebook</a>'\n",
              "            + ' to learn more about interactive tables.';\n",
              "          element.innerHTML = '';\n",
              "          dataTable['output_type'] = 'display_data';\n",
              "          await google.colab.output.renderOutput(dataTable, element);\n",
              "          const docLink = document.createElement('div');\n",
              "          docLink.innerHTML = docLinkHtml;\n",
              "          element.appendChild(docLink);\n",
              "        }\n",
              "      </script>\n",
              "    </div>\n",
              "  </div>\n",
              "  "
            ]
          },
          "metadata": {},
          "execution_count": 22
        }
      ]
    },
    {
      "cell_type": "code",
      "source": [
        "titles_df.to_pickle(\"descriptions.pkl\")"
      ],
      "metadata": {
        "id": "nD7AmPVrUIpD"
      },
      "execution_count": null,
      "outputs": []
    },
    {
      "cell_type": "markdown",
      "source": [
        "Now the data is loaded into a pandas dataframe, let's put it into a fast.ai dataloader using CollabDataLoaders. Here is some intuition about what the back end is probably like. Implementing a collaborative learner would use indices as opposed to names. Thus, what CollabDataLoaders would do is first map each profile and movie name to a specific matrix index using a hashmap. If you were to actually build the model, what the Dataloader would do is supply the indices so you don't have to handle any of the backend yourself."
      ],
      "metadata": {
        "id": "ILKnkyMleZ_9"
      }
    },
    {
      "cell_type": "code",
      "source": [
        "dls = CollabDataLoaders.from_df(ratings,user_name='profile',item_name='title',rating_name='score')"
      ],
      "metadata": {
        "id": "9D4pPB-Gd9vl"
      },
      "execution_count": null,
      "outputs": []
    },
    {
      "cell_type": "code",
      "source": [
        "dls.train.show_batch()"
      ],
      "metadata": {
        "id": "IABp4xLLfHEb",
        "colab": {
          "base_uri": "https://localhost:8080/",
          "height": 363
        },
        "outputId": "5fec64f0-e07f-476b-82af-295e0a41945c"
      },
      "execution_count": null,
      "outputs": [
        {
          "output_type": "display_data",
          "data": {
            "text/plain": [
              "<IPython.core.display.HTML object>"
            ],
            "text/html": [
              "<table border=\"1\" class=\"dataframe\">\n",
              "  <thead>\n",
              "    <tr style=\"text-align: right;\">\n",
              "      <th></th>\n",
              "      <th>profile</th>\n",
              "      <th>title</th>\n",
              "      <th>score</th>\n",
              "    </tr>\n",
              "  </thead>\n",
              "  <tbody>\n",
              "    <tr>\n",
              "      <th>0</th>\n",
              "      <td>13lueH0ur</td>\n",
              "      <td>Gate: Jieitai Kanochi nite, Kaku Tatakaeri 2nd Season</td>\n",
              "      <td>9.0</td>\n",
              "    </tr>\n",
              "    <tr>\n",
              "      <th>1</th>\n",
              "      <td>ggultra2764</td>\n",
              "      <td>Kuuchuu Buranko</td>\n",
              "      <td>9.0</td>\n",
              "    </tr>\n",
              "    <tr>\n",
              "      <th>2</th>\n",
              "      <td>Lightniing</td>\n",
              "      <td>Ano Hi Mita Hana no Namae wo Bokutachi wa Mada Shiranai.</td>\n",
              "      <td>10.0</td>\n",
              "    </tr>\n",
              "    <tr>\n",
              "      <th>3</th>\n",
              "      <td>Lompa</td>\n",
              "      <td>Nana</td>\n",
              "      <td>10.0</td>\n",
              "    </tr>\n",
              "    <tr>\n",
              "      <th>4</th>\n",
              "      <td>NerdCitadel</td>\n",
              "      <td>Fairy Tail Movie 2: Dragon Cry</td>\n",
              "      <td>5.0</td>\n",
              "    </tr>\n",
              "    <tr>\n",
              "      <th>5</th>\n",
              "      <td>stormchasar</td>\n",
              "      <td>Onegai☆Twins</td>\n",
              "      <td>6.0</td>\n",
              "    </tr>\n",
              "    <tr>\n",
              "      <th>6</th>\n",
              "      <td>lalohuicochea</td>\n",
              "      <td>Bakemono no Ko</td>\n",
              "      <td>10.0</td>\n",
              "    </tr>\n",
              "    <tr>\n",
              "      <th>7</th>\n",
              "      <td>dublincore</td>\n",
              "      <td>Durarara!!</td>\n",
              "      <td>7.0</td>\n",
              "    </tr>\n",
              "    <tr>\n",
              "      <th>8</th>\n",
              "      <td>KevyVuong</td>\n",
              "      <td>My Imouto: Koakuma na A-Cup</td>\n",
              "      <td>10.0</td>\n",
              "    </tr>\n",
              "    <tr>\n",
              "      <th>9</th>\n",
              "      <td>Phoenix_Trite</td>\n",
              "      <td>K-On!</td>\n",
              "      <td>10.0</td>\n",
              "    </tr>\n",
              "  </tbody>\n",
              "</table>"
            ]
          },
          "metadata": {}
        }
      ]
    },
    {
      "cell_type": "code",
      "source": [
        "# dls.classes # don't run this unless you want to see all the shady usernames in full glory"
      ],
      "metadata": {
        "id": "Z7FCCTQsfMbb"
      },
      "execution_count": null,
      "outputs": []
    },
    {
      "cell_type": "markdown",
      "source": [
        "The output of dls.classes does suggest that the format of storage is a dictionary to list of names. This makes indexing easy!"
      ],
      "metadata": {
        "id": "1zXqsGFMi9lU"
      }
    },
    {
      "cell_type": "code",
      "source": [
        "n_users = len(dls.classes['profile'])\n",
        "n_anime = len(dls.classes['title'])\n",
        "n_users,n_anime"
      ],
      "metadata": {
        "id": "I2kYuKVIhj6A",
        "colab": {
          "base_uri": "https://localhost:8080/"
        },
        "outputId": "7fc18466-f9b6-478a-dd99-cd8d04617b52"
      },
      "execution_count": null,
      "outputs": [
        {
          "output_type": "execute_result",
          "data": {
            "text/plain": [
              "(47886, 8114)"
            ]
          },
          "metadata": {},
          "execution_count": 27
        }
      ]
    },
    {
      "cell_type": "code",
      "source": [
        "X,y = dls.one_batch()"
      ],
      "metadata": {
        "id": "H9esLN03fivM"
      },
      "execution_count": null,
      "outputs": []
    },
    {
      "cell_type": "markdown",
      "source": [
        "Note that X is a digit, not the names passed to the CollabDataLoaders. It has done the index mapping for us!"
      ],
      "metadata": {
        "id": "OaCVUzIMkk92"
      }
    },
    {
      "cell_type": "code",
      "source": [
        "X"
      ],
      "metadata": {
        "id": "ralumDkokQNd",
        "colab": {
          "base_uri": "https://localhost:8080/"
        },
        "outputId": "273dcc8c-bd98-4e6b-b3a9-5494d52a2cfc"
      },
      "execution_count": null,
      "outputs": [
        {
          "output_type": "execute_result",
          "data": {
            "text/plain": [
              "tensor([[25073,   105],\n",
              "        [26737,  2781],\n",
              "        [19655,  5818],\n",
              "        [12568,    79],\n",
              "        [16889,  1526],\n",
              "        [38261,  7235],\n",
              "        [15611,  3800],\n",
              "        [34193,  6765],\n",
              "        [ 4717,   218],\n",
              "        [20516,   990],\n",
              "        [33964,  7570],\n",
              "        [15306,  3974],\n",
              "        [ 6408,  4177],\n",
              "        [11791,  1673],\n",
              "        [37321,  2034],\n",
              "        [25073,  2693],\n",
              "        [15324,  5134],\n",
              "        [30188,   771],\n",
              "        [28578,  5322],\n",
              "        [16271,  5586],\n",
              "        [20880,  5134],\n",
              "        [33199,  1175],\n",
              "        [23917,  5530],\n",
              "        [18933,  2763],\n",
              "        [ 6563,  2279],\n",
              "        [  754,  2419],\n",
              "        [ 3140,  5013],\n",
              "        [35901,  5322],\n",
              "        [14619,  3530],\n",
              "        [32115,  1752],\n",
              "        [15320,  4778],\n",
              "        [31713,   680],\n",
              "        [40208,  1295],\n",
              "        [ 6295,  5855],\n",
              "        [  249,  7789],\n",
              "        [32241,  1526],\n",
              "        [32015,  5069],\n",
              "        [14811,  3959],\n",
              "        [26991,  7685],\n",
              "        [27373,  4159],\n",
              "        [39508,  4973],\n",
              "        [30316,  6106],\n",
              "        [44785,  3519],\n",
              "        [ 1063,  2500],\n",
              "        [20137,   985],\n",
              "        [41058,  2805],\n",
              "        [ 8007,  4973],\n",
              "        [21433,  5123],\n",
              "        [24592,  4773],\n",
              "        [36410,  6724],\n",
              "        [ 3391,   792],\n",
              "        [ 4537,  6506],\n",
              "        [29194,  4272],\n",
              "        [ 5866,  1206],\n",
              "        [ 7682,  3129],\n",
              "        [24517,  6881],\n",
              "        [44804,  6867],\n",
              "        [23699,  7976],\n",
              "        [11104,  1695],\n",
              "        [37497,  1916],\n",
              "        [  588,  5432],\n",
              "        [37075,  6765],\n",
              "        [47191,  7051],\n",
              "        [26991,  3259]])"
            ]
          },
          "metadata": {},
          "execution_count": 29
        }
      ]
    },
    {
      "cell_type": "code",
      "source": [
        "y"
      ],
      "metadata": {
        "id": "uVv9ZhcnkRyM",
        "colab": {
          "base_uri": "https://localhost:8080/"
        },
        "outputId": "be9b005b-1492-4019-bb8f-cb6f57236db1"
      },
      "execution_count": null,
      "outputs": [
        {
          "output_type": "execute_result",
          "data": {
            "text/plain": [
              "tensor([[ 7.],\n",
              "        [10.],\n",
              "        [10.],\n",
              "        [ 8.],\n",
              "        [ 8.],\n",
              "        [ 8.],\n",
              "        [10.],\n",
              "        [10.],\n",
              "        [10.],\n",
              "        [10.],\n",
              "        [ 8.],\n",
              "        [ 8.],\n",
              "        [ 9.],\n",
              "        [ 9.],\n",
              "        [ 5.],\n",
              "        [ 8.],\n",
              "        [ 9.],\n",
              "        [ 8.],\n",
              "        [ 7.],\n",
              "        [ 7.],\n",
              "        [ 8.],\n",
              "        [ 9.],\n",
              "        [10.],\n",
              "        [ 8.],\n",
              "        [10.],\n",
              "        [ 7.],\n",
              "        [ 8.],\n",
              "        [ 9.],\n",
              "        [10.],\n",
              "        [ 8.],\n",
              "        [ 6.],\n",
              "        [ 9.],\n",
              "        [10.],\n",
              "        [ 7.],\n",
              "        [ 9.],\n",
              "        [ 8.],\n",
              "        [ 3.],\n",
              "        [10.],\n",
              "        [ 8.],\n",
              "        [10.],\n",
              "        [ 6.],\n",
              "        [10.],\n",
              "        [ 8.],\n",
              "        [ 9.],\n",
              "        [10.],\n",
              "        [ 7.],\n",
              "        [ 7.],\n",
              "        [ 6.],\n",
              "        [ 2.],\n",
              "        [ 8.],\n",
              "        [ 5.],\n",
              "        [ 7.],\n",
              "        [ 9.],\n",
              "        [ 9.],\n",
              "        [ 7.],\n",
              "        [ 4.],\n",
              "        [ 3.],\n",
              "        [ 8.],\n",
              "        [10.],\n",
              "        [ 6.],\n",
              "        [ 9.],\n",
              "        [10.],\n",
              "        [ 8.],\n",
              "        [ 6.]])"
            ]
          },
          "metadata": {},
          "execution_count": 30
        }
      ]
    },
    {
      "cell_type": "markdown",
      "source": [
        "X,y from dls.one_batch() returns the list of indices and corresponding values to index into during training. Now, I'm going to build the model which is used for training."
      ],
      "metadata": {
        "id": "4vDEmtWLmj4G"
      }
    },
    {
      "cell_type": "markdown",
      "source": [
        "This is the basic class setup. The tricky thing is the differentiation: i.e you only want to differentiate the gradients for the indices that you actually take each batch. Luckily, PyTorch's autodifferentiation feature  is complex enough to acccount for that! You just have to make your matrices parameters for the model. To create a pytorch model, you need to extend the pytorch class nn.Module. Don't forget to call init! fastai has one a module class which does not require calling init, but I want to use nn\n",
        ".Module to be in keeping with pytorch. Other functions such as optimizers then can use this module object and perform optimization on the model.\n",
        "```\n",
        "import torch.nn as nn\n",
        "import torch.nn.functional as F\n",
        "\n",
        "class Model(nn.Module):\n",
        "    def __init__(self):\n",
        "        super().__init__()\n",
        "        self.conv1 = nn.Conv2d(1, 20, 5)\n",
        "        self.conv2 = nn.Conv2d(20, 20, 5)\n",
        "\n",
        "    def forward(self, x):\n",
        "        x = F.relu(self.conv1(x))\n",
        "        return F.relu(self.conv2(x))\n",
        "```"
      ],
      "metadata": {
        "id": "n2IcE03opL_9"
      }
    },
    {
      "cell_type": "code",
      "source": [
        "# Module??"
      ],
      "metadata": {
        "id": "fUGRWnImwb1A"
      },
      "execution_count": null,
      "outputs": []
    },
    {
      "cell_type": "code",
      "source": [
        "def initialize_params(size):\n",
        "    return nn.Parameter(torch.randn(size)*0.1) # parameter class adds it to Module parameters, automatically turns on requires grad"
      ],
      "metadata": {
        "id": "COu2cT-4uXTX"
      },
      "execution_count": null,
      "outputs": []
    },
    {
      "cell_type": "code",
      "source": [
        "class CollabFilter(nn.Module):\n",
        "    def __init__(self,num_users,num_items,num_latent,y_range):\n",
        "        super().__init__()\n",
        "        self.user_factors = initialize_params((num_users,num_latent))\n",
        "        self.item_factors = initialize_params((num_items,num_latent))\n",
        "        self.y_range = y_range\n",
        "        # self.user_bias = initialize_params((num_users))\n",
        "        # self.item_bias = initialize_params((num_items))\n",
        "    def forward(self,X):\n",
        "        users = self.user_factors[X[:,0]]\n",
        "        items = self.item_factors[X[:,1]]\n",
        "        # ubias = self.user_bias[X]\n",
        "        # itbias = self.item_bias[X]\n",
        "        z = (users*items).sum(dim=1,keepdim=True).sigmoid() # take product, take sigmoid to scale values\n",
        "        low, high = self.y_range\n",
        "        z = z*(high-low)+low# get values between 0 and 10 (scale of ratings)\n",
        "        return z"
      ],
      "metadata": {
        "id": "V_9EOzFtkxLV"
      },
      "execution_count": null,
      "outputs": []
    },
    {
      "cell_type": "markdown",
      "source": [
        "Yayyyy, the filtering model is instantiated! Let's train it using the Learner object from fast.ai. Because collaborative filtering is, in essence, a regression problem where you try and predict the scores a particular user would give based on their coefficients(user_factors) for each of the anime attributes(item_factors), which is not known ahead of time but ratings are known, you can fit it using gradient descent. Regression models use mean squared error loss, so the loss function I'll be using is MSE loss."
      ],
      "metadata": {
        "id": "Aqi5e6ZJzBKw"
      }
    },
    {
      "cell_type": "code",
      "source": [
        "model = CollabFilter(n_users,n_anime,50,(0,10.5))"
      ],
      "metadata": {
        "id": "i3gT6fE4yqnh"
      },
      "execution_count": null,
      "outputs": []
    },
    {
      "cell_type": "code",
      "source": [
        "learn = Learner(dls, model, loss_func=nn.MSELoss(reduction='mean'))\n",
        "learn.fit_one_cycle(12)"
      ],
      "metadata": {
        "id": "nko06axB1KSy",
        "colab": {
          "base_uri": "https://localhost:8080/",
          "height": 425
        },
        "outputId": "74ae4754-ec03-4538-828a-c32d0a21c3ed"
      },
      "execution_count": null,
      "outputs": [
        {
          "output_type": "display_data",
          "data": {
            "text/plain": [
              "<IPython.core.display.HTML object>"
            ],
            "text/html": [
              "\n",
              "<style>\n",
              "    /* Turns off some styling */\n",
              "    progress {\n",
              "        /* gets rid of default border in Firefox and Opera. */\n",
              "        border: none;\n",
              "        /* Needs to be in here for Safari polyfill so background images work as expected. */\n",
              "        background-size: auto;\n",
              "    }\n",
              "    .progress-bar-interrupted, .progress-bar-interrupted::-webkit-progress-bar {\n",
              "        background: #F44336;\n",
              "    }\n",
              "</style>\n"
            ]
          },
          "metadata": {}
        },
        {
          "output_type": "display_data",
          "data": {
            "text/plain": [
              "<IPython.core.display.HTML object>"
            ],
            "text/html": [
              "<table border=\"1\" class=\"dataframe\">\n",
              "  <thead>\n",
              "    <tr style=\"text-align: left;\">\n",
              "      <th>epoch</th>\n",
              "      <th>train_loss</th>\n",
              "      <th>valid_loss</th>\n",
              "      <th>time</th>\n",
              "    </tr>\n",
              "  </thead>\n",
              "  <tbody>\n",
              "    <tr>\n",
              "      <td>0</td>\n",
              "      <td>10.880637</td>\n",
              "      <td>10.934642</td>\n",
              "      <td>00:25</td>\n",
              "    </tr>\n",
              "    <tr>\n",
              "      <td>1</td>\n",
              "      <td>9.395119</td>\n",
              "      <td>9.569321</td>\n",
              "      <td>00:24</td>\n",
              "    </tr>\n",
              "    <tr>\n",
              "      <td>2</td>\n",
              "      <td>4.338412</td>\n",
              "      <td>5.006995</td>\n",
              "      <td>00:24</td>\n",
              "    </tr>\n",
              "    <tr>\n",
              "      <td>3</td>\n",
              "      <td>1.961450</td>\n",
              "      <td>2.748111</td>\n",
              "      <td>00:24</td>\n",
              "    </tr>\n",
              "    <tr>\n",
              "      <td>4</td>\n",
              "      <td>1.235819</td>\n",
              "      <td>2.141769</td>\n",
              "      <td>00:25</td>\n",
              "    </tr>\n",
              "    <tr>\n",
              "      <td>5</td>\n",
              "      <td>0.899718</td>\n",
              "      <td>1.937379</td>\n",
              "      <td>00:24</td>\n",
              "    </tr>\n",
              "    <tr>\n",
              "      <td>6</td>\n",
              "      <td>0.662696</td>\n",
              "      <td>1.853929</td>\n",
              "      <td>00:24</td>\n",
              "    </tr>\n",
              "    <tr>\n",
              "      <td>7</td>\n",
              "      <td>0.511575</td>\n",
              "      <td>1.815940</td>\n",
              "      <td>00:24</td>\n",
              "    </tr>\n",
              "    <tr>\n",
              "      <td>8</td>\n",
              "      <td>0.418494</td>\n",
              "      <td>1.798269</td>\n",
              "      <td>00:24</td>\n",
              "    </tr>\n",
              "    <tr>\n",
              "      <td>9</td>\n",
              "      <td>0.376762</td>\n",
              "      <td>1.790368</td>\n",
              "      <td>00:23</td>\n",
              "    </tr>\n",
              "    <tr>\n",
              "      <td>10</td>\n",
              "      <td>0.354781</td>\n",
              "      <td>1.788037</td>\n",
              "      <td>00:24</td>\n",
              "    </tr>\n",
              "    <tr>\n",
              "      <td>11</td>\n",
              "      <td>0.337691</td>\n",
              "      <td>1.787697</td>\n",
              "      <td>00:24</td>\n",
              "    </tr>\n",
              "  </tbody>\n",
              "</table>"
            ]
          },
          "metadata": {}
        }
      ]
    },
    {
      "cell_type": "code",
      "source": [
        "type(dls.classes['title'])"
      ],
      "metadata": {
        "id": "Oqqlk7AZ7UHD",
        "colab": {
          "base_uri": "https://localhost:8080/"
        },
        "outputId": "9195acf7-8107-4f93-97c7-709dc1364f7d"
      },
      "execution_count": null,
      "outputs": [
        {
          "output_type": "execute_result",
          "data": {
            "text/plain": [
              "fastai.data.transforms.CategoryMap"
            ]
          },
          "metadata": {},
          "execution_count": 36
        }
      ]
    },
    {
      "cell_type": "markdown",
      "source": [
        "Get the names of the valid titles(use ctrl-F to find the name of the one you want)"
      ],
      "metadata": {
        "id": "xs1On84aLWmz"
      }
    },
    {
      "cell_type": "code",
      "source": [],
      "metadata": {
        "id": "HN4Gcwq4KRrq"
      },
      "execution_count": null,
      "outputs": []
    },
    {
      "cell_type": "code",
      "source": [
        "name = \"Beserk!\"\n",
        "idx = dls.classes['title'].o2i[name]"
      ],
      "metadata": {
        "id": "m_z6D85VK6V6"
      },
      "execution_count": null,
      "outputs": []
    },
    {
      "cell_type": "markdown",
      "source": [
        "Use cosine similarity to find the top 5 most similar anime"
      ],
      "metadata": {
        "id": "wdp_5mWlLhyS"
      }
    },
    {
      "cell_type": "code",
      "source": [
        "with torch.no_grad():\n",
        "  m1 = model.item_factors[idx].unsqueeze(dim=0)\n",
        "  sim = nn.CosineSimilarity(dim=1)\n",
        "  res = sim(m1,model.item_factors)\n",
        "  # most smilar\n",
        "  _,mostSim = torch.topk(res,6)\n",
        "  print(f\"Most similar anime to {name}\")\n",
        "  for k in range(1,len(mostSim)):\n",
        "    print(k,dls.classes['title'][mostSim[k]])"
      ],
      "metadata": {
        "colab": {
          "base_uri": "https://localhost:8080/"
        },
        "id": "bNM1_FWiLRMJ",
        "outputId": "3e0f5bcb-151d-4ac2-a6fc-275de8ceb98b"
      },
      "execution_count": null,
      "outputs": [
        {
          "output_type": "stream",
          "name": "stdout",
          "text": [
            "Most similar anime to Beserk!\n",
            "1 Hit wo Nerae!\n",
            "2 Aoki Honoo\n",
            "3 Munto: Toki no Kabe wo Koete\n",
            "4 Detective Conan Movie 12: Full Score of Fear\n",
            "5 Fushigi no Umi no Nadia\n"
          ]
        }
      ]
    },
    {
      "cell_type": "code",
      "source": [
        "torch.save(dls,'anime_titles.pkl')"
      ],
      "metadata": {
        "id": "SPhbnvi7Mrii"
      },
      "execution_count": null,
      "outputs": []
    },
    {
      "cell_type": "code",
      "source": [
        "learn.export()"
      ],
      "metadata": {
        "id": "ohDxHrgNW1DE"
      },
      "execution_count": null,
      "outputs": []
    },
    {
      "cell_type": "code",
      "source": [],
      "metadata": {
        "id": "AJL8si0zW5Us"
      },
      "execution_count": null,
      "outputs": []
    },
    {
      "cell_type": "code",
      "source": [],
      "metadata": {
        "id": "ZnVVm3cbW7tL"
      },
      "execution_count": null,
      "outputs": []
    }
  ],
  "metadata": {
    "accelerator": "GPU",
    "colab": {
      "provenance": []
    },
    "gpuClass": "standard",
    "kernelspec": {
      "display_name": "Python 3",
      "name": "python3"
    },
    "language_info": {
      "name": "python"
    }
  },
  "nbformat": 4,
  "nbformat_minor": 0
}